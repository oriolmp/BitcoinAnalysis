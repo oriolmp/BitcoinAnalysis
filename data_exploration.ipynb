{
 "cells": [
  {
   "cell_type": "markdown",
   "id": "09f76a6e-a077-4f56-b3c2-b056bf0226ec",
   "metadata": {},
   "source": [
    "## Data Exploration"
   ]
  },
  {
   "cell_type": "code",
   "execution_count": 1,
   "id": "5a0f80e9-b356-415f-8a99-3cb899f3fb4a",
   "metadata": {},
   "outputs": [],
   "source": [
    "import pandas as pd\n",
    "import numpy as np"
   ]
  },
  {
   "cell_type": "code",
   "execution_count": 2,
   "id": "5addd158-0921-4a15-be36-01c292e1904c",
   "metadata": {},
   "outputs": [],
   "source": [
    "csv_path = 'data/btc_usd_weekly.csv'"
   ]
  },
  {
   "cell_type": "code",
   "execution_count": 3,
   "id": "e03bb51e-cc58-4282-a317-90d63a015b72",
   "metadata": {},
   "outputs": [],
   "source": [
    "df = pd.read_csv(csv_path)"
   ]
  },
  {
   "cell_type": "code",
   "execution_count": 4,
   "id": "7754ef71-bf0b-4f84-ac0a-43432393f12e",
   "metadata": {},
   "outputs": [],
   "source": [
    "# remove 1 nan row and column adj close\n",
    "df = df.dropna().reset_index(drop=True)\n",
    "df = df.drop('Adj Close', axis=1)"
   ]
  },
  {
   "cell_type": "markdown",
   "id": "8811f25b-a780-448c-80ad-ed1e77f812ff",
   "metadata": {},
   "source": [
    "### Compute Percentual change and create labels"
   ]
  },
  {
   "cell_type": "code",
   "execution_count": 5,
   "id": "215a4cc7-1504-4039-88f5-5f4bbd3089b2",
   "metadata": {},
   "outputs": [],
   "source": [
    "df['Change'] = (df['Close'] - df['Open'])\n",
    "df['Percentual Change'] = (df['Change'] / df['Open']) * 100"
   ]
  },
  {
   "cell_type": "code",
   "execution_count": 6,
   "id": "100f81c4-e216-4ef0-b294-bd24946b6616",
   "metadata": {},
   "outputs": [],
   "source": [
    "def decide_label(row):\n",
    "    label = 0\n",
    "    if row['Percentual Change'] > 0.5:\n",
    "        label = 1\n",
    "    return label"
   ]
  },
  {
   "cell_type": "code",
   "execution_count": 7,
   "id": "f2f91b31-ca39-4a50-a00c-5e56a90376f0",
   "metadata": {},
   "outputs": [],
   "source": [
    "df['Buy'] = df.apply(decide_label, axis=1) "
   ]
  },
  {
   "cell_type": "code",
   "execution_count": 8,
   "id": "b38b22fc-c0e1-42b2-88dd-a431767dfbf7",
   "metadata": {},
   "outputs": [],
   "source": [
    "def calculate_variation(df: pd.DataFrame):\n",
    "    variation_lst = []\n",
    "    variation = 0\n",
    "    for row in df.iterrows():\n",
    "        if row[0] == 0:\n",
    "            pass\n",
    "        else:\n",
    "            # print(row[0])\n",
    "            variation = df.iloc[row[0]]['Change'] - df.iloc[row[0]-1]['Change']\n",
    "        variation_lst.append(variation)\n",
    "    return variation_lst"
   ]
  },
  {
   "cell_type": "code",
   "execution_count": 9,
   "id": "6a7305a6-5245-40e4-8d60-1928ffd1f155",
   "metadata": {},
   "outputs": [],
   "source": [
    "variations_lst = calculate_variation(df)\n",
    "variations = pd.Series(variations_lst, name='Variation')\n",
    "df = pd.concat([df, variations], axis=1)"
   ]
  },
  {
   "cell_type": "code",
   "execution_count": 10,
   "id": "1cc2a5bb-9836-424f-872d-7ab4cd61e1d5",
   "metadata": {},
   "outputs": [
    {
     "data": {
      "text/html": [
       "<div>\n",
       "<style scoped>\n",
       "    .dataframe tbody tr th:only-of-type {\n",
       "        vertical-align: middle;\n",
       "    }\n",
       "\n",
       "    .dataframe tbody tr th {\n",
       "        vertical-align: top;\n",
       "    }\n",
       "\n",
       "    .dataframe thead th {\n",
       "        text-align: right;\n",
       "    }\n",
       "</style>\n",
       "<table border=\"1\" class=\"dataframe\">\n",
       "  <thead>\n",
       "    <tr style=\"text-align: right;\">\n",
       "      <th></th>\n",
       "      <th>Date</th>\n",
       "      <th>Open</th>\n",
       "      <th>High</th>\n",
       "      <th>Low</th>\n",
       "      <th>Close</th>\n",
       "      <th>Volume</th>\n",
       "      <th>Change</th>\n",
       "      <th>Percentual Change</th>\n",
       "      <th>Buy</th>\n",
       "      <th>Variation</th>\n",
       "    </tr>\n",
       "  </thead>\n",
       "  <tbody>\n",
       "    <tr>\n",
       "      <th>0</th>\n",
       "      <td>2015-01-19</td>\n",
       "      <td>211.470993</td>\n",
       "      <td>255.074005</td>\n",
       "      <td>205.153000</td>\n",
       "      <td>253.718002</td>\n",
       "      <td>189165500.0</td>\n",
       "      <td>42.247009</td>\n",
       "      <td>19.977685</td>\n",
       "      <td>1</td>\n",
       "      <td>0.000000</td>\n",
       "    </tr>\n",
       "    <tr>\n",
       "      <th>1</th>\n",
       "      <td>2015-01-26</td>\n",
       "      <td>254.078995</td>\n",
       "      <td>309.384003</td>\n",
       "      <td>212.014999</td>\n",
       "      <td>226.972000</td>\n",
       "      <td>306840500.0</td>\n",
       "      <td>-27.106995</td>\n",
       "      <td>-10.668727</td>\n",
       "      <td>0</td>\n",
       "      <td>-69.354004</td>\n",
       "    </tr>\n",
       "  </tbody>\n",
       "</table>\n",
       "</div>"
      ],
      "text/plain": [
       "         Date        Open        High         Low       Close       Volume  \\\n",
       "0  2015-01-19  211.470993  255.074005  205.153000  253.718002  189165500.0   \n",
       "1  2015-01-26  254.078995  309.384003  212.014999  226.972000  306840500.0   \n",
       "\n",
       "      Change  Percentual Change  Buy  Variation  \n",
       "0  42.247009          19.977685    1   0.000000  \n",
       "1 -27.106995         -10.668727    0 -69.354004  "
      ]
     },
     "execution_count": 10,
     "metadata": {},
     "output_type": "execute_result"
    }
   ],
   "source": [
    "df.head(2)"
   ]
  },
  {
   "cell_type": "code",
   "execution_count": 11,
   "id": "c90c0475-798b-455a-bdda-359c8a30b295",
   "metadata": {},
   "outputs": [
    {
     "data": {
      "text/plain": [
       "Buy\n",
       "1    243\n",
       "0    210\n",
       "Name: count, dtype: int64"
      ]
     },
     "execution_count": 11,
     "metadata": {},
     "output_type": "execute_result"
    }
   ],
   "source": [
    "df['Buy'].value_counts()"
   ]
  },
  {
   "cell_type": "code",
   "execution_count": 12,
   "id": "be1c59ac-876b-4b05-b929-3aec0119a563",
   "metadata": {},
   "outputs": [],
   "source": [
    "# i=0\n",
    "# for row in df.iterrows():\n",
    "#     print(row[1]['Open'])\n",
    "#     if i == 0:\n",
    "#         break"
   ]
  },
  {
   "cell_type": "markdown",
   "id": "88549db9-384a-4fe2-8d26-f2eed7998e8c",
   "metadata": {},
   "source": [
    "## Compute RSI"
   ]
  },
  {
   "cell_type": "code",
   "execution_count": 13,
   "id": "ae8d063e-d314-40af-8ed6-8916722fd340",
   "metadata": {},
   "outputs": [],
   "source": [
    "def calculate_rsi(df: pd.DataFrame):\n",
    "    # Based on https://www.investopedia.com/terms/r/rsi.asp\n",
    "    rsi_lst = []\n",
    "    for row in df.iterrows():\n",
    "        if row[0] < 14:\n",
    "            rsi = 0\n",
    "        else:\n",
    "            up = []\n",
    "            down = []\n",
    "            for i in range(row[0] - 14, row[0]):\n",
    "                if df.iloc[i]['Percentual Change'] > 0:\n",
    "                    up.append(df.iloc[i]['Percentual Change'])\n",
    "                else:\n",
    "                    down.append(df.iloc[i]['Percentual Change'])\n",
    "            up_mean = np.mean(up) / 14\n",
    "            down_mean = np.mean(down) / 14\n",
    "\n",
    "            rs = np.abs(up_mean / down_mean)\n",
    "            rsi = 100 - (100/(1 + rs))\n",
    "            \n",
    "        rsi_lst.append(rsi)\n",
    "    return rsi_lst"
   ]
  },
  {
   "cell_type": "code",
   "execution_count": 14,
   "id": "066168a5-de27-488a-8c58-78bc18f53a60",
   "metadata": {},
   "outputs": [],
   "source": [
    "rsi_lst = calculate_rsi(df)\n",
    "rsi = pd.Series(rsi_lst, name='RSI')\n",
    "df = pd.concat([df, rsi], axis=1)    "
   ]
  },
  {
   "cell_type": "code",
   "execution_count": 18,
   "id": "75e2a2bc-5b5c-4bcb-af68-526da1b49e80",
   "metadata": {},
   "outputs": [
    {
     "data": {
      "text/html": [
       "<div>\n",
       "<style scoped>\n",
       "    .dataframe tbody tr th:only-of-type {\n",
       "        vertical-align: middle;\n",
       "    }\n",
       "\n",
       "    .dataframe tbody tr th {\n",
       "        vertical-align: top;\n",
       "    }\n",
       "\n",
       "    .dataframe thead th {\n",
       "        text-align: right;\n",
       "    }\n",
       "</style>\n",
       "<table border=\"1\" class=\"dataframe\">\n",
       "  <thead>\n",
       "    <tr style=\"text-align: right;\">\n",
       "      <th></th>\n",
       "      <th>Date</th>\n",
       "      <th>Open</th>\n",
       "      <th>High</th>\n",
       "      <th>Low</th>\n",
       "      <th>Close</th>\n",
       "      <th>Volume</th>\n",
       "      <th>Change</th>\n",
       "      <th>Percentual Change</th>\n",
       "      <th>Buy</th>\n",
       "      <th>Variation</th>\n",
       "      <th>RSI</th>\n",
       "    </tr>\n",
       "  </thead>\n",
       "  <tbody>\n",
       "    <tr>\n",
       "      <th>14</th>\n",
       "      <td>2015-04-27</td>\n",
       "      <td>219.429001</td>\n",
       "      <td>243.240005</td>\n",
       "      <td>218.022995</td>\n",
       "      <td>240.358002</td>\n",
       "      <td>162643200.0</td>\n",
       "      <td>20.929001</td>\n",
       "      <td>9.537938</td>\n",
       "      <td>1</td>\n",
       "      <td>24.111008</td>\n",
       "      <td>54.432408</td>\n",
       "    </tr>\n",
       "    <tr>\n",
       "      <th>15</th>\n",
       "      <td>2015-05-04</td>\n",
       "      <td>240.356003</td>\n",
       "      <td>247.804001</td>\n",
       "      <td>228.572998</td>\n",
       "      <td>240.296005</td>\n",
       "      <td>166059200.0</td>\n",
       "      <td>-0.059998</td>\n",
       "      <td>-0.024962</td>\n",
       "      <td>0</td>\n",
       "      <td>-20.988999</td>\n",
       "      <td>48.928614</td>\n",
       "    </tr>\n",
       "    <tr>\n",
       "      <th>16</th>\n",
       "      <td>2015-05-11</td>\n",
       "      <td>240.298996</td>\n",
       "      <td>244.270004</td>\n",
       "      <td>234.057007</td>\n",
       "      <td>236.802002</td>\n",
       "      <td>130322100.0</td>\n",
       "      <td>-3.496994</td>\n",
       "      <td>-1.455268</td>\n",
       "      <td>0</td>\n",
       "      <td>-3.436996</td>\n",
       "      <td>55.800022</td>\n",
       "    </tr>\n",
       "    <tr>\n",
       "      <th>17</th>\n",
       "      <td>2015-05-18</td>\n",
       "      <td>236.886993</td>\n",
       "      <td>241.977997</td>\n",
       "      <td>231.817001</td>\n",
       "      <td>240.953003</td>\n",
       "      <td>114746500.0</td>\n",
       "      <td>4.066010</td>\n",
       "      <td>1.716434</td>\n",
       "      <td>1</td>\n",
       "      <td>7.563004</td>\n",
       "      <td>55.729553</td>\n",
       "    </tr>\n",
       "  </tbody>\n",
       "</table>\n",
       "</div>"
      ],
      "text/plain": [
       "          Date        Open        High         Low       Close       Volume  \\\n",
       "14  2015-04-27  219.429001  243.240005  218.022995  240.358002  162643200.0   \n",
       "15  2015-05-04  240.356003  247.804001  228.572998  240.296005  166059200.0   \n",
       "16  2015-05-11  240.298996  244.270004  234.057007  236.802002  130322100.0   \n",
       "17  2015-05-18  236.886993  241.977997  231.817001  240.953003  114746500.0   \n",
       "\n",
       "       Change  Percentual Change  Buy  Variation        RSI  \n",
       "14  20.929001           9.537938    1  24.111008  54.432408  \n",
       "15  -0.059998          -0.024962    0 -20.988999  48.928614  \n",
       "16  -3.496994          -1.455268    0  -3.436996  55.800022  \n",
       "17   4.066010           1.716434    1   7.563004  55.729553  "
      ]
     },
     "execution_count": 18,
     "metadata": {},
     "output_type": "execute_result"
    }
   ],
   "source": [
    "df[14:18]"
   ]
  },
  {
   "cell_type": "markdown",
   "id": "9e25e8af-7d84-4934-8869-140e3bd34bc3",
   "metadata": {},
   "source": [
    "## Data Analysis"
   ]
  },
  {
   "cell_type": "code",
   "execution_count": 21,
   "id": "ed3d8bc6-61c6-4d24-9aa9-fb686dc03d88",
   "metadata": {},
   "outputs": [],
   "source": [
    "features = df.drop(['Buy', 'Date'], axis=1)\n",
    "labels = df.loc[:,'Buy']"
   ]
  },
  {
   "cell_type": "code",
   "execution_count": 25,
   "id": "f4deb876-e9a1-4d0a-bada-c7ed7527e4e9",
   "metadata": {},
   "outputs": [],
   "source": [
    "features_selected = features.loc[:, ['RSI', 'Volume']]"
   ]
  },
  {
   "cell_type": "code",
   "execution_count": 26,
   "id": "0744db52-8508-434f-bf73-beb8c974bf09",
   "metadata": {},
   "outputs": [],
   "source": [
    "data = features_selected[14:]\n",
    "c = labels[14:]"
   ]
  },
  {
   "cell_type": "code",
   "execution_count": 29,
   "id": "a2f47d1f-f468-4e1a-b89d-a3dee084f3c6",
   "metadata": {},
   "outputs": [],
   "source": [
    "import matplotlib.pyplot as plt"
   ]
  },
  {
   "cell_type": "code",
   "execution_count": 42,
   "id": "c009c3eb-fdbc-4e4a-8030-87054e47570a",
   "metadata": {},
   "outputs": [
    {
     "data": {
      "image/png": "[encoded data removed]",
      "text/plain": [
       "<Figure size 640x480 with 1 Axes>"
      ]
     },
     "metadata": {},
     "output_type": "display_data"
    }
   ],
   "source": [
    "plt.scatter(data['Volume'], data['RSI'], c=c)\n",
    "plt.xlabel('Volume')\n",
    "plt.ylabel('RSI')\n",
    "plt.legend(c)\n",
    "plt.show()"
   ]
  },
  {
   "cell_type": "code",
   "execution_count": 62,
   "id": "8fb8e564-d7be-4675-9246-1e6e5d80977f",
   "metadata": {},
   "outputs": [],
   "source": [
    "from sklearn.svm import SVC\n",
    "from sklearn.model_selection import train_test_split, GridSearchCV"
   ]
  },
  {
   "cell_type": "code",
   "execution_count": 45,
   "id": "42161c15-b783-4da4-a7b5-74517d3cef99",
   "metadata": {},
   "outputs": [],
   "source": [
    "X_train, X_test, y_train, y_test = train_test_split(features[14:], c)"
   ]
  },
  {
   "cell_type": "code",
   "execution_count": 65,
   "id": "e6ea5838-e3a9-430d-b667-3bc5f0734b4c",
   "metadata": {},
   "outputs": [],
   "source": [
    "parameters = {'kernel':('linear', 'rbf'), 'C':[0.1, 1, 10]}"
   ]
  },
  {
   "cell_type": "code",
   "execution_count": 63,
   "id": "9a5784b2-e70a-46cf-9320-2c4cd7d12f7e",
   "metadata": {},
   "outputs": [],
   "source": [
    "svc = SVC()"
   ]
  },
  {
   "cell_type": "code",
   "execution_count": 66,
   "id": "e4622cfd-1729-4d20-b769-ba52401732d2",
   "metadata": {},
   "outputs": [],
   "source": [
    "clf = GridSearchCV(svc, parameters)"
   ]
  },
  {
   "cell_type": "code",
   "execution_count": null,
   "id": "bcc5c9ce-75fe-4ddb-8491-f990d3e61384",
   "metadata": {},
   "outputs": [],
   "source": [
    "clf.fit(features[14:], c)"
   ]
  },
  {
   "cell_type": "code",
   "execution_count": 59,
   "id": "58ba5122-158f-4155-b261-cb5e25881585",
   "metadata": {},
   "outputs": [
    {
     "data": {
      "text/html": [
       "<style>#sk-container-id-5 {color: black;}#sk-container-id-5 pre{padding: 0;}#sk-container-id-5 div.sk-toggleable {background-color: white;}#sk-container-id-5 label.sk-toggleable__label {cursor: pointer;display: block;width: 100%;margin-bottom: 0;padding: 0.3em;box-sizing: border-box;text-align: center;}#sk-container-id-5 label.sk-toggleable__label-arrow:before {content: \"▸\";float: left;margin-right: 0.25em;color: #696969;}#sk-container-id-5 label.sk-toggleable__label-arrow:hover:before {color: black;}#sk-container-id-5 div.sk-estimator:hover label.sk-toggleable__label-arrow:before {color: black;}#sk-container-id-5 div.sk-toggleable__content {max-height: 0;max-width: 0;overflow: hidden;text-align: left;background-color: #f0f8ff;}#sk-container-id-5 div.sk-toggleable__content pre {margin: 0.2em;color: black;border-radius: 0.25em;background-color: #f0f8ff;}#sk-container-id-5 input.sk-toggleable__control:checked~div.sk-toggleable__content {max-height: 200px;max-width: 100%;overflow: auto;}#sk-container-id-5 input.sk-toggleable__control:checked~label.sk-toggleable__label-arrow:before {content: \"▾\";}#sk-container-id-5 div.sk-estimator input.sk-toggleable__control:checked~label.sk-toggleable__label {background-color: #d4ebff;}#sk-container-id-5 div.sk-label input.sk-toggleable__control:checked~label.sk-toggleable__label {background-color: #d4ebff;}#sk-container-id-5 input.sk-hidden--visually {border: 0;clip: rect(1px 1px 1px 1px);clip: rect(1px, 1px, 1px, 1px);height: 1px;margin: -1px;overflow: hidden;padding: 0;position: absolute;width: 1px;}#sk-container-id-5 div.sk-estimator {font-family: monospace;background-color: #f0f8ff;border: 1px dotted black;border-radius: 0.25em;box-sizing: border-box;margin-bottom: 0.5em;}#sk-container-id-5 div.sk-estimator:hover {background-color: #d4ebff;}#sk-container-id-5 div.sk-parallel-item::after {content: \"\";width: 100%;border-bottom: 1px solid gray;flex-grow: 1;}#sk-container-id-5 div.sk-label:hover label.sk-toggleable__label {background-color: #d4ebff;}#sk-container-id-5 div.sk-serial::before {content: \"\";position: absolute;border-left: 1px solid gray;box-sizing: border-box;top: 0;bottom: 0;left: 50%;z-index: 0;}#sk-container-id-5 div.sk-serial {display: flex;flex-direction: column;align-items: center;background-color: white;padding-right: 0.2em;padding-left: 0.2em;position: relative;}#sk-container-id-5 div.sk-item {position: relative;z-index: 1;}#sk-container-id-5 div.sk-parallel {display: flex;align-items: stretch;justify-content: center;background-color: white;position: relative;}#sk-container-id-5 div.sk-item::before, #sk-container-id-5 div.sk-parallel-item::before {content: \"\";position: absolute;border-left: 1px solid gray;box-sizing: border-box;top: 0;bottom: 0;left: 50%;z-index: -1;}#sk-container-id-5 div.sk-parallel-item {display: flex;flex-direction: column;z-index: 1;position: relative;background-color: white;}#sk-container-id-5 div.sk-parallel-item:first-child::after {align-self: flex-end;width: 50%;}#sk-container-id-5 div.sk-parallel-item:last-child::after {align-self: flex-start;width: 50%;}#sk-container-id-5 div.sk-parallel-item:only-child::after {width: 0;}#sk-container-id-5 div.sk-dashed-wrapped {border: 1px dashed gray;margin: 0 0.4em 0.5em 0.4em;box-sizing: border-box;padding-bottom: 0.4em;background-color: white;}#sk-container-id-5 div.sk-label label {font-family: monospace;font-weight: bold;display: inline-block;line-height: 1.2em;}#sk-container-id-5 div.sk-label-container {text-align: center;}#sk-container-id-5 div.sk-container {/* jupyter's `normalize.less` sets `[hidden] { display: none; }` but bootstrap.min.css set `[hidden] { display: none !important; }` so we also need the `!important` here to be able to override the default hidden behavior on the sphinx rendered scikit-learn.org. See: https://github.com/scikit-learn/scikit-learn/issues/21755 */display: inline-block !important;position: relative;}#sk-container-id-5 div.sk-text-repr-fallback {display: none;}</style><div id=\"sk-container-id-5\" class=\"sk-top-container\"><div class=\"sk-text-repr-fallback\"><pre>SVC(C=10)</pre><b>In a Jupyter environment, please rerun this cell to show the HTML representation or trust the notebook. <br />On GitHub, the HTML representation is unable to render, please try loading this page with nbviewer.org.</b></div><div class=\"sk-container\" hidden><div class=\"sk-item\"><div class=\"sk-estimator sk-toggleable\"><input class=\"sk-toggleable__control sk-hidden--visually\" id=\"sk-estimator-id-5\" type=\"checkbox\" checked><label for=\"sk-estimator-id-5\" class=\"sk-toggleable__label sk-toggleable__label-arrow\">SVC</label><div class=\"sk-toggleable__content\"><pre>SVC(C=10)</pre></div></div></div></div></div>"
      ],
      "text/plain": [
       "SVC(C=10)"
      ]
     },
     "execution_count": 59,
     "metadata": {},
     "output_type": "execute_result"
    }
   ],
   "source": [
    "svc.fit(X_train, y_train)"
   ]
  },
  {
   "cell_type": "code",
   "execution_count": 60,
   "id": "63d5bd8b-bed0-4bb9-8054-91b26a835c89",
   "metadata": {},
   "outputs": [
    {
     "data": {
      "text/plain": [
       "array([1, 0, 0, 0, 1, 1, 1, 1, 1, 0, 1, 0, 0, 1, 1, 1, 1, 0, 1, 0, 0, 0,\n",
       "       1, 1, 1, 1, 0, 1, 1, 0, 1, 0, 1, 1, 1, 1, 1, 0, 1, 0, 0, 1, 1, 1,\n",
       "       1, 1, 1, 0, 1, 0, 1, 1, 0, 0, 0, 1, 0, 1, 1, 1, 1, 0, 1, 0, 1, 0,\n",
       "       1, 1, 0, 1, 1, 0, 0, 0, 1, 1, 1, 1, 1, 0, 1, 0, 0, 0, 0, 0, 1, 1,\n",
       "       0, 0, 1, 0, 1, 0, 1, 1, 1, 1, 1, 1, 1, 1, 0, 1, 1, 0, 1, 0, 0, 0],\n",
       "      dtype=int64)"
      ]
     },
     "execution_count": 60,
     "metadata": {},
     "output_type": "execute_result"
    }
   ],
   "source": [
    "svc.predict(X_test)"
   ]
  },
  {
   "cell_type": "code",
   "execution_count": 61,
   "id": "8ea247fe-e676-4e22-bd2a-035ff21033c0",
   "metadata": {},
   "outputs": [
    {
     "data": {
      "text/plain": [
       "0.5454545454545454"
      ]
     },
     "execution_count": 61,
     "metadata": {},
     "output_type": "execute_result"
    }
   ],
   "source": [
    "score = svc.score(X_test, y_test)\n",
    "score"
   ]
  },
  {
   "cell_type": "code",
   "execution_count": null,
   "id": "29feb6b3-79ab-42c3-8420-287fd1982862",
   "metadata": {},
   "outputs": [],
   "source": []
  }
 ],
 "metadata": {
  "kernelspec": {
   "display_name": "Python 3 (ipykernel)",
   "language": "python",
   "name": "python3"
  },
  "language_info": {
   "codemirror_mode": {
    "name": "ipython",
    "version": 3
   },
   "file_extension": ".py",
   "mimetype": "text/x-python",
   "name": "python",
   "nbconvert_exporter": "python",
   "pygments_lexer": "ipython3",
   "version": "3.11.5"
  }
 },
 "nbformat": 4,
 "nbformat_minor": 5
}
